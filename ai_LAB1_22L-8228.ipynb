{
  "nbformat": 4,
  "nbformat_minor": 0,
  "metadata": {
    "colab": {
      "provenance": [],
      "authorship_tag": "ABX9TyN6P6F+9h84wag4ehninSrX",
      "include_colab_link": true
    },
    "kernelspec": {
      "name": "python3",
      "display_name": "Python 3"
    },
    "language_info": {
      "name": "python"
    }
  },
  "cells": [
    {
      "cell_type": "markdown",
      "metadata": {
        "id": "view-in-github",
        "colab_type": "text"
      },
      "source": [
        "<a href=\"https://colab.research.google.com/github/BurhanBhatti165/AI_LAB/blob/main/ai_LAB1_22L-8228.ipynb\" target=\"_parent\"><img src=\"https://colab.research.google.com/assets/colab-badge.svg\" alt=\"Open In Colab\"/></a>"
      ]
    },
    {
      "cell_type": "code",
      "execution_count": 14,
      "metadata": {
        "colab": {
          "base_uri": "https://localhost:8080/"
        },
        "id": "wpJ28Em4taRh",
        "outputId": "9d139c77-1914-48a9-cabf-04d7b771128e"
      },
      "outputs": [
        {
          "output_type": "stream",
          "name": "stdout",
          "text": [
            "Enter ANYTHING:29\n",
            "<class 'str'>\n",
            "<class 'int'>\n",
            "<class 'float'>\n"
          ]
        }
      ],
      "source": [
        "age = input('Enter ANYTHING:')\n",
        "print(type(age))\n",
        "b = type(age)\n",
        "if b == str:\n",
        "    age = int(age)\n",
        "    print(type(age))\n",
        "    age = float(age)\n",
        "    print(type(age))\n",
        "\n",
        "elif b == int:\n",
        "  age = float(age)\n",
        "  print(type(age))\n",
        "else:\n",
        "    age = int(age)\n",
        "    print(type(age))\n",
        ""
      ]
    },
    {
      "cell_type": "markdown",
      "source": [
        "**QUESTION 2 **"
      ],
      "metadata": {
        "id": "NHd5DtQxQ5ul"
      }
    },
    {
      "cell_type": "code",
      "source": [
        "name = input('Enter your name:')\n",
        "age = input('Enter your age:')\n",
        "print('Hello ' + name ,'YOUR AGE IS ' + age )"
      ],
      "metadata": {
        "colab": {
          "base_uri": "https://localhost:8080/"
        },
        "id": "kCzx9zxutgMW",
        "outputId": "619c31e2-27a7-4923-e141-e2bdbe80b2ba"
      },
      "execution_count": 12,
      "outputs": [
        {
          "output_type": "stream",
          "name": "stdout",
          "text": [
            "Enter your name:d\n",
            "Enter your age:45\n",
            "Hello d YOUR AGE IS 45\n"
          ]
        }
      ]
    },
    {
      "cell_type": "markdown",
      "source": [
        "**QUESTION 3**"
      ],
      "metadata": {
        "id": "znEoQCMZRA4k"
      }
    },
    {
      "cell_type": "code",
      "source": [
        "listt = [\"a\", \"b\", \"c\",\"e\", \"f\", \"g\"]\n",
        "print(listt)\n",
        "listt.append(\"nooooooooo\")\n",
        "print(listt)\n",
        "listt.insert(1, \"yessss\")\n",
        "print(listt)\n",
        "listt.remove(\"b\")\n",
        "print(listt)\n"
      ],
      "metadata": {
        "colab": {
          "base_uri": "https://localhost:8080/"
        },
        "id": "OIS4hbxnwH7s",
        "outputId": "7f977440-7c22-4fe7-edd8-dbbf61e13914"
      },
      "execution_count": 19,
      "outputs": [
        {
          "output_type": "stream",
          "name": "stdout",
          "text": [
            "['a', 'b', 'c', 'e', 'f', 'g']\n",
            "['a', 'b', 'c', 'e', 'f', 'g', 'nooooooooo']\n",
            "['a', 'yessss', 'b', 'c', 'e', 'f', 'g', 'nooooooooo']\n",
            "['a', 'yessss', 'c', 'e', 'f', 'g', 'nooooooooo']\n"
          ]
        }
      ]
    },
    {
      "cell_type": "markdown",
      "source": [
        "**QUESTION 4**"
      ],
      "metadata": {
        "id": "qa7MV94JREuM"
      }
    },
    {
      "cell_type": "code",
      "source": [
        "tuppleee = (\"a\", \"b\", \"c\",\"e\", \"f\", \"g\")\n",
        "a=tuppleee[0]\n",
        "b=tuppleee[1]\n",
        "c=tuppleee[2]\n",
        "print('first elemnet:'+ a)\n",
        "print('second elemnet:'+ b)\n",
        "print('third elemnet:'+ c)\n",
        "print(tuppleee)\n"
      ],
      "metadata": {
        "colab": {
          "base_uri": "https://localhost:8080/"
        },
        "id": "ps_4hxD3w8pK",
        "outputId": "4f1d9aae-1e89-422b-830b-9bcbb228ad3e"
      },
      "execution_count": 21,
      "outputs": [
        {
          "output_type": "stream",
          "name": "stdout",
          "text": [
            "first elemnet:a\n",
            "second elemnet:b\n",
            "third elemnet:c\n",
            "('a', 'b', 'c', 'e', 'f', 'g')\n"
          ]
        }
      ]
    },
    {
      "cell_type": "markdown",
      "source": [],
      "metadata": {
        "id": "9F8RLWBbznaB"
      }
    },
    {
      "cell_type": "markdown",
      "source": [
        "**QUESTION 5**"
      ],
      "metadata": {
        "id": "6FqyVlWzRHV8"
      }
    },
    {
      "cell_type": "code",
      "source": [
        "dicttt = {\n",
        "  0: {\n",
        "  \"name\": \"bunny\",\n",
        "  \"grade\": \"A\",\n",
        "  },\n",
        "    1: {\n",
        "  \"name\": \"bunny\",\n",
        "  \"grade\": \"A+\",\n",
        "  },\n",
        "    2: {\n",
        "  \"name\": \"bunny\",\n",
        "  \"grade\": \"A-\",\n",
        "  },\n",
        "    3: {\n",
        "  \"name\": \"bunny\",\n",
        "  \"grade\": \"B\",\n",
        "  },  4: {\n",
        "  \"name\": \"bunny\",\n",
        "  \"grade\": \"B+\",\n",
        "  },\n",
        "\n",
        "}\n",
        "\n",
        "print(dicttt)"
      ],
      "metadata": {
        "colab": {
          "base_uri": "https://localhost:8080/"
        },
        "id": "oCO4x_1TxtkK",
        "outputId": "5a9a448c-84d3-411d-aa6d-7fe0e950a57e"
      },
      "execution_count": 26,
      "outputs": [
        {
          "output_type": "stream",
          "name": "stdout",
          "text": [
            "{0: {'name': 'bunny', 'grade': 'A'}, 1: {'name': 'bunny', 'grade': 'A+'}, 2: {'name': 'bunny', 'grade': 'A-'}, 3: {'name': 'bunny', 'grade': 'B'}, 4: {'name': 'bunny', 'grade': 'B+'}}\n"
          ]
        }
      ]
    },
    {
      "cell_type": "markdown",
      "source": [],
      "metadata": {
        "id": "5_HqDeT90M1J"
      }
    },
    {
      "cell_type": "markdown",
      "source": [
        "**QUESTION 6 **"
      ],
      "metadata": {
        "id": "XpaG71Z50Rpp"
      }
    },
    {
      "cell_type": "code",
      "source": [
        "list1 = list(map(int, input(\"Enter a list of numbers separated by spaces: \").split()))\n",
        "list2 = list(map(int, input(\"Enter a list of numbers separated by spaces: \").split()))\n",
        "\n",
        "print(\"The first list is:\", list1)\n",
        "print(\"The second list is:\", list2)\n",
        "\n",
        "\n",
        "print(\"UNION \")\n",
        "L1= set(list1)\n",
        "L2= set(list2)\n",
        "set3 = L1.union(L2)\n",
        "print(set3)\n",
        "\n",
        "print(\"INTERSECTION \")\n",
        "L1= set(list1)\n",
        "L2= set(list2)\n",
        "set3 = L1.intersection(L2)\n",
        "print(set3)\n",
        "\n",
        "print(\"DIFFERENCE \")\n",
        "L1= set(list1)\n",
        "L2= set(list2)\n",
        "set3 = L1.difference(L2)\n",
        "print(set3)\n",
        "\n",
        "\n",
        "\n"
      ],
      "metadata": {
        "colab": {
          "base_uri": "https://localhost:8080/"
        },
        "id": "4cau-fhS0WHp",
        "outputId": "c5172c1f-79bb-4bfa-d971-bd0f1d585987"
      },
      "execution_count": 35,
      "outputs": [
        {
          "output_type": "stream",
          "name": "stdout",
          "text": [
            "Enter a list of numbers separated by spaces: 1 2 3 4\n",
            "Enter a list of numbers separated by spaces: 4 3 5 1\n",
            "The first list is: [1, 2, 3, 4]\n",
            "The second list is: [4, 3, 5, 1]\n",
            "UNION \n",
            "{1, 2, 3, 4, 5}\n",
            "INTERSECTION \n",
            "{1, 3, 4}\n",
            "DIFFERENCE \n",
            "{2}\n"
          ]
        }
      ]
    },
    {
      "cell_type": "markdown",
      "source": [
        "**QUESTION 7**"
      ],
      "metadata": {
        "id": "4J7yjMgv2sW9"
      }
    },
    {
      "cell_type": "code",
      "source": [
        "nnumber = int(input(\"Enter a number: \"))\n",
        "\n",
        "if nnumber > 0:\n",
        "  print(\"Positive number\")\n",
        "elif nnumber < 0:\n",
        "  print(\"Negative number\")\n",
        "else:\n",
        "  print(\"Zero\")\n",
        "\n",
        "if nnumber % 2 == 0:\n",
        "  print(\"Even number\")\n",
        "else:\n",
        "  print(\"Odd number\")"
      ],
      "metadata": {
        "colab": {
          "base_uri": "https://localhost:8080/"
        },
        "id": "J47iFCW63Egh",
        "outputId": "d73b9090-8dd0-4deb-cf6c-cfd0e7a666d3"
      },
      "execution_count": 37,
      "outputs": [
        {
          "output_type": "stream",
          "name": "stdout",
          "text": [
            "Enter a number: -88\n",
            "Negative number\n",
            "Even number\n"
          ]
        }
      ]
    },
    {
      "cell_type": "markdown",
      "source": [
        "**QUESTION 8 **"
      ],
      "metadata": {
        "id": "vbiGhAHQ3Qoc"
      }
    },
    {
      "cell_type": "code",
      "source": [
        "for x in range(1,51):\n",
        "  if x % 3 == 0 and x % 5 == 0:\n",
        "    print(\"FizzBuzz\")\n",
        "    continue\n",
        "  elif x % 3 == 0:\n",
        "    print(\"Fizz\")\n",
        "    continue\n",
        "  elif x % 5 == 0:\n",
        "    print(\"Buzz\")\n",
        "    continue\n",
        "  print(x)"
      ],
      "metadata": {
        "colab": {
          "base_uri": "https://localhost:8080/"
        },
        "id": "HU2oOVJy3U6m",
        "outputId": "3ce9335c-fc99-4df7-9639-0500eeae30a1"
      },
      "execution_count": 41,
      "outputs": [
        {
          "output_type": "stream",
          "name": "stdout",
          "text": [
            "1\n",
            "2\n",
            "Fizz\n",
            "4\n",
            "Buzz\n",
            "Fizz\n",
            "7\n",
            "8\n",
            "Fizz\n",
            "Buzz\n",
            "11\n",
            "Fizz\n",
            "13\n",
            "14\n",
            "FizzBuzz\n",
            "16\n",
            "17\n",
            "Fizz\n",
            "19\n",
            "Buzz\n",
            "Fizz\n",
            "22\n",
            "23\n",
            "Fizz\n",
            "Buzz\n",
            "26\n",
            "Fizz\n",
            "28\n",
            "29\n",
            "FizzBuzz\n",
            "31\n",
            "32\n",
            "Fizz\n",
            "34\n",
            "Buzz\n",
            "Fizz\n",
            "37\n",
            "38\n",
            "Fizz\n",
            "Buzz\n",
            "41\n",
            "Fizz\n",
            "43\n",
            "44\n",
            "FizzBuzz\n",
            "46\n",
            "47\n",
            "Fizz\n",
            "49\n",
            "Buzz\n"
          ]
        }
      ]
    },
    {
      "cell_type": "markdown",
      "source": [
        "**Question 9**"
      ],
      "metadata": {
        "id": "cmxX9KYK5sri"
      }
    },
    {
      "cell_type": "code",
      "source": [
        "def my_function(a):\n",
        "  if a < 0:\n",
        "    print(\"Sorry, factorial does not exist for negative numbers\")\n",
        "  elif a == 0:\n",
        "    print(\"The factorial of 0 is 1\")\n",
        "  else:\n",
        "    print(\"The factorial of\", a, \"is:\")\n",
        "    fact = 1\n",
        "    for i in range(1,a + 1):\n",
        "      fact = fact*i\n",
        "    print(fact)\n",
        "\n",
        "\n",
        "\n",
        "\n",
        "\n",
        "a= int(input(\"Enter Number to find its fctorial\"))\n",
        "my_function(a)"
      ],
      "metadata": {
        "colab": {
          "base_uri": "https://localhost:8080/"
        },
        "id": "6OmBUIVy4akE",
        "outputId": "3c4a848c-5b41-4d3a-e4ec-1ae1c3b4abb8"
      },
      "execution_count": 46,
      "outputs": [
        {
          "output_type": "stream",
          "name": "stdout",
          "text": [
            "Enter Number to find its fctorial5\n",
            "The factorial of 5 is:\n",
            "120\n"
          ]
        }
      ]
    },
    {
      "cell_type": "code",
      "source": [
        "def my_function(a):\n",
        "  if a < 0:\n",
        "    print(\"bhai shahab positive numbe dooo \")\n",
        "  elif a == 0:\n",
        "    print(\"The factorial of 0 is 1\")\n",
        "  else:\n",
        "    print(\"The factorial of\", a, \"is:\")\n",
        "    fact = 1\n",
        "\n",
        "    for i in range(a, 0, -1):\n",
        "        fact = fact * i\n",
        "    print(fact)\n",
        "\n",
        "\n",
        "\n",
        "\n",
        "\n",
        "a= int(input(\"Enter Number to find its fctorial\"))\n",
        "my_function(a)"
      ],
      "metadata": {
        "colab": {
          "base_uri": "https://localhost:8080/"
        },
        "id": "VCVZYArJ7iM-",
        "outputId": "11bf3e58-ceef-451f-badf-972ba40b0526"
      },
      "execution_count": 50,
      "outputs": [
        {
          "output_type": "stream",
          "name": "stdout",
          "text": [
            "Enter Number to find its fctorial5\n",
            "The factorial of 5 is:\n",
            "120\n"
          ]
        }
      ]
    },
    {
      "cell_type": "markdown",
      "source": [
        "**QUESTION 10**"
      ],
      "metadata": {
        "id": "pvE5n7Ju8kCX"
      }
    },
    {
      "cell_type": "code",
      "source": [
        "def my_function(a):\n",
        "  if a < 0:\n",
        "    print(\"bhai shahab positive numbe dooo \")\n",
        "  elif a == 0 or a == 1 :\n",
        "    print(\"both 0 and 1 are not prime \")\n",
        "  else:\n",
        "    for i in range (2, a):\n",
        "      if a % i == 0:\n",
        "        print(\"not prime\")\n",
        "        break\n",
        "      else:\n",
        "        print(\"prime\")\n",
        "        break\n",
        "\n",
        "\n",
        "a= int(input(\"Enter Number to find WETHER IT IS PRIME OR NOT  :\"))\n",
        "my_function(a)\n",
        "\n",
        "\n",
        "\n",
        "\n"
      ],
      "metadata": {
        "colab": {
          "base_uri": "https://localhost:8080/"
        },
        "id": "n43p1Yxv8mZv",
        "outputId": "b6c317d3-6177-4494-a936-2a1d3a6601c7"
      },
      "execution_count": 62,
      "outputs": [
        {
          "output_type": "stream",
          "name": "stdout",
          "text": [
            "Enter Number to find WETHER IT IS PRIME OR NOT  :10\n",
            "not prime\n"
          ]
        }
      ]
    },
    {
      "cell_type": "markdown",
      "source": [
        "**QUESTION 11**"
      ],
      "metadata": {
        "id": "8QVTUptlAInZ"
      }
    },
    {
      "cell_type": "code",
      "source": [
        "ll = [1,2,3,4,5,6,7,8,9,10]\n",
        "nl = []\n",
        "for x in ll:\n",
        "  nl.append(x*x)\n",
        "print(nl)"
      ],
      "metadata": {
        "colab": {
          "base_uri": "https://localhost:8080/"
        },
        "id": "n24Ns6DA98oF",
        "outputId": "c7746abf-bba3-4d79-da0a-ce526bb81ff4"
      },
      "execution_count": 69,
      "outputs": [
        {
          "output_type": "stream",
          "name": "stdout",
          "text": [
            "[1, 4, 9, 16, 25, 36, 49, 64, 81, 100]\n"
          ]
        }
      ]
    },
    {
      "cell_type": "markdown",
      "source": [
        "**Question 12 **"
      ],
      "metadata": {
        "id": "r-B7FBwCBGeN"
      }
    },
    {
      "cell_type": "code",
      "source": [
        "d1 = {'x': 1, 'y': 2,'k':88}\n",
        "d2 = {'x': 3, 'z': 4, 'k':88}\n",
        "\n",
        "d3 = d1.copy()\n",
        "for key, value in d2.items():\n",
        "  for k, v in d1.items():\n",
        "    if k == key:\n",
        "      d3[key] = d2.items()\n",
        "\n",
        "    d3[key] = value\n",
        "\n",
        "print(d3)"
      ],
      "metadata": {
        "colab": {
          "base_uri": "https://localhost:8080/"
        },
        "id": "VPfd1bfMBIlf",
        "outputId": "4616d01d-7045-4f4e-bd6a-7f1c3f1324ab"
      },
      "execution_count": 74,
      "outputs": [
        {
          "output_type": "stream",
          "name": "stdout",
          "text": [
            "{'x': 3, 'y': 2, 'k': 88, 'z': 4}\n"
          ]
        }
      ]
    },
    {
      "cell_type": "markdown",
      "source": [
        "**QUESTION 13 **"
      ],
      "metadata": {
        "id": "5reZ8BAnC7LM"
      }
    },
    {
      "cell_type": "code",
      "source": [
        "def remove_duplicates(input_list):\n",
        "  l2 = []\n",
        "  for element in input_list:\n",
        "    if element not in l2:\n",
        "      l2.append(element)\n",
        "  return l2\n",
        "\n",
        "# Example usage (from your provided code)\n",
        "list1 = [1, 2, 2, 3, 4, 4, 5]\n",
        "l2 = remove_duplicates(list1)\n",
        "l2"
      ],
      "metadata": {
        "colab": {
          "base_uri": "https://localhost:8080/"
        },
        "id": "g7yfiRAlG1Tf",
        "outputId": "b2d1d9ba-8699-4459-a343-010c21232642"
      },
      "execution_count": 82,
      "outputs": [
        {
          "output_type": "execute_result",
          "data": {
            "text/plain": [
              "[1, 2, 3, 4, 5]"
            ]
          },
          "metadata": {},
          "execution_count": 82
        }
      ]
    },
    {
      "cell_type": "markdown",
      "source": [
        "***Question 14***"
      ],
      "metadata": {
        "id": "Ey9vGXL-FTnI"
      }
    },
    {
      "cell_type": "code",
      "source": [
        "\n",
        "texts = [\"bbb\",\"nan\",\"jgsaf\", \"aaa\"]\n",
        "\n",
        "print(\"given list of strings:\")\n",
        "print(texts)\n",
        "\n",
        "result = list(filter(lambda x: (x == \"\".join(reversed(x))), texts))\n",
        "\n",
        "\n",
        "print(\"\\nList of palindromes:\")\n",
        "print(result)"
      ],
      "metadata": {
        "colab": {
          "base_uri": "https://localhost:8080/"
        },
        "id": "HRu6RkXpGtX0",
        "outputId": "0da42f69-9b1e-48fc-9a01-3f6f2a6347c3"
      },
      "execution_count": 83,
      "outputs": [
        {
          "output_type": "stream",
          "name": "stdout",
          "text": [
            "Orginal list of strings:\n",
            "['bbb', 'nan', 'jgsaf', 'aaa']\n",
            "\n",
            "List of palindromes:\n",
            "['bbb', 'nan', 'aaa']\n"
          ]
        }
      ]
    },
    {
      "cell_type": "markdown",
      "source": [
        "**QUESTION 15 **"
      ],
      "metadata": {
        "id": "zHFSTWccIWmo"
      }
    },
    {
      "cell_type": "code",
      "source": [
        "\n",
        "\n",
        "tot_terms = int(input(\"tOtal terms \"))\n",
        "\n",
        "\n",
        "n1, n2 = 0, 1\n",
        "count = 0\n",
        "\n",
        "\n",
        "if tot_terms <= 0:\n",
        "   print(\"bhai positive number do klitni baar btaon \")\n",
        "\n",
        "elif tot_terms == 1:\n",
        "   print(\"Fibonacci sequence  \",tot_terms,\":\")\n",
        "   print(n1)\n",
        "\n",
        "else:\n",
        "   print(\"Fibonacci sequence:\")\n",
        "   while count < tot_terms:\n",
        "       print(n1)\n",
        "       c = n1 + n2\n",
        "       # update values\n",
        "       n1 = n2\n",
        "       n2 = c\n",
        "       count += 1"
      ],
      "metadata": {
        "colab": {
          "base_uri": "https://localhost:8080/"
        },
        "id": "TaaTVRyvIWaG",
        "outputId": "35a20c20-8e21-4871-ba2f-904d12143ef9"
      },
      "execution_count": 85,
      "outputs": [
        {
          "output_type": "stream",
          "name": "stdout",
          "text": [
            "tOtal terms 5\n",
            "Fibonacci sequence:\n",
            "0\n",
            "1\n",
            "1\n",
            "2\n",
            "3\n"
          ]
        }
      ]
    },
    {
      "cell_type": "markdown",
      "source": [
        "**QUESTION 16**"
      ],
      "metadata": {
        "id": "KZKF5M6YJvYB"
      }
    },
    {
      "cell_type": "code",
      "source": [
        "\n",
        "\n",
        "numbers = []\n",
        "while True:\n",
        "        num_str = input(\"Enter a number (or 'done' to finish): \")\n",
        "        if num_str.lower() == 'done':\n",
        "            break\n",
        "        num = float(num_str)\n",
        "        numbers.append(num)\n",
        "\n",
        "if numbers:\n",
        "    average = sum(numbers) / len(numbers)\n",
        "    print(\"Average:\", average)\n",
        "else:\n",
        "    print(\"No numbers entered.\")\n"
      ],
      "metadata": {
        "colab": {
          "base_uri": "https://localhost:8080/"
        },
        "id": "ebK7oKqoJxUQ",
        "outputId": "bb270b01-9daf-4fac-fb70-6b2af18674e4"
      },
      "execution_count": 88,
      "outputs": [
        {
          "output_type": "stream",
          "name": "stdout",
          "text": [
            "Enter a number (or 'done' to finish): 5\n",
            "Enter a number (or 'done' to finish): 6\n",
            "Enter a number (or 'done' to finish): done\n",
            "Average: 5.5\n"
          ]
        }
      ]
    },
    {
      "cell_type": "markdown",
      "source": [
        "**QUESTION 17**"
      ],
      "metadata": {
        "id": "y0Dx1F8nLyLo"
      }
    },
    {
      "cell_type": "code",
      "source": [
        "\n",
        "a = int(input(\"Enter a number to generate its table : \"))\n",
        "\n",
        "for i in range(1, 11):\n",
        "   print(a, 'x', i, '=', a*i)\n"
      ],
      "metadata": {
        "colab": {
          "base_uri": "https://localhost:8080/"
        },
        "id": "TpZ4mE1SL0Wf",
        "outputId": "e0576833-cc6a-4801-b9ca-a36b7c89353f"
      },
      "execution_count": 89,
      "outputs": [
        {
          "output_type": "stream",
          "name": "stdout",
          "text": [
            "Enter a number to generate its table : 5\n",
            "5 x 1 = 5\n",
            "5 x 2 = 10\n",
            "5 x 3 = 15\n",
            "5 x 4 = 20\n",
            "5 x 5 = 25\n",
            "5 x 6 = 30\n",
            "5 x 7 = 35\n",
            "5 x 8 = 40\n",
            "5 x 9 = 45\n",
            "5 x 10 = 50\n"
          ]
        }
      ]
    },
    {
      "cell_type": "markdown",
      "source": [],
      "metadata": {
        "id": "M-vlMZyMQ1UO"
      }
    },
    {
      "cell_type": "markdown",
      "source": [],
      "metadata": {
        "id": "oRjZtv4RQ3Rd"
      }
    },
    {
      "cell_type": "markdown",
      "source": [
        "**QUESTION 18**"
      ],
      "metadata": {
        "id": "XGZkKbw-MNfZ"
      }
    },
    {
      "cell_type": "code",
      "source": [
        "students = []\n",
        "\n",
        "a = int(input(\"Enter the total number of students: \"))\n",
        "\n",
        "for _ in range(a):\n",
        "  student = {}\n",
        "  student[\"name\"] = input(\"Enter name: \")\n",
        "  student[\"password\"] = input(\"Enter password: \")\n",
        "  students.append(student)\n",
        "\n",
        "\n",
        "def login():\n",
        "    print(\"WELCOME TO LOGIN PAGE\")\n",
        "    print(\"NOW ENTER YOUR NAME AND PASSWORD FOR LOGIN.\")\n",
        "    name = input(\"Enter your name: \")\n",
        "    password = input(\"Enter your password: \")\n",
        "    for student in students:\n",
        "        if student[\"name\"] == name and student[\"password\"] == password:\n",
        "            print(\"Login successful!\")\n",
        "            return\n",
        "    print(\"Login failed. Invalid username or password.\")\n",
        "\n",
        "login()"
      ],
      "metadata": {
        "colab": {
          "base_uri": "https://localhost:8080/"
        },
        "id": "xvjde2HeMPjC",
        "outputId": "bbd222f7-6c9d-49b2-fa4e-afcd55100c73"
      },
      "execution_count": 93,
      "outputs": [
        {
          "output_type": "stream",
          "name": "stdout",
          "text": [
            "Enter the total number of students: 1\n",
            "Enter name: BB\n",
            "Enter password: BB\n",
            "WELCOME TO LOGIN PAGE\n",
            "NOW ENTER YOUR NAME AND PASSWORD FOR LOGIN.\n",
            "Enter your name: BB\n",
            "Enter your password: GG\n",
            "Login failed. Invalid username or password.\n"
          ]
        }
      ]
    },
    {
      "cell_type": "markdown",
      "source": [
        "**Question 19**"
      ],
      "metadata": {
        "id": "2Qigsn70OPe0"
      }
    },
    {
      "cell_type": "code",
      "source": [
        "\n",
        "\n",
        "def frequenc7yy(text):\n",
        "    words = text.lower().split()\n",
        "    frequency = {}\n",
        "    for word in words:\n",
        "        if word in frequency:\n",
        "            frequency[word] += 1\n",
        "        else:\n",
        "            frequency[word] = 1\n",
        "    return frequency\n",
        "\n",
        "input_list = input(\"Enter a list of words separated by spaces: \").split()\n",
        "\n",
        "frequencies = frequenc7yy(\" \".join(input_list))\n",
        "print(\"Word frequencies:\")\n",
        "for word, count in frequencies.items():\n",
        "  print(f\"{word}: {count}\")\n"
      ],
      "metadata": {
        "colab": {
          "base_uri": "https://localhost:8080/"
        },
        "id": "LCR7-iwjORY9",
        "outputId": "a4b9030b-bbb6-43d8-aa1c-c62255d3fbf8"
      },
      "execution_count": 94,
      "outputs": [
        {
          "output_type": "stream",
          "name": "stdout",
          "text": [
            "Enter a list of words separated by spaces: a b c a one two one \n",
            "Word frequencies:\n",
            "a: 2\n",
            "b: 1\n",
            "c: 1\n",
            "one: 2\n",
            "two: 1\n"
          ]
        }
      ]
    },
    {
      "cell_type": "markdown",
      "source": [
        "**Question 20**"
      ],
      "metadata": {
        "id": "JxN07-9zPTw7"
      }
    },
    {
      "cell_type": "code",
      "source": [
        "def convert_temperature():\n",
        "  while True:\n",
        "    choice = input(\"Convert to Celsius or Fahrenheit? \")\n",
        "    if choice in ('Celsius', 'Fahrenheit'):\n",
        "      break\n",
        "    else:\n",
        "      print(\"Invalid choice. Please enter 'Celsius' or 'Fahrenheit'.\")\n",
        "  temp = float(input(\"Enter the temperature value: \"))\n",
        "\n",
        "  if choice == 'Celsius':\n",
        "    celsius = (temp - 32) * 5/9\n",
        "    print(f\"{temp}°F is equal to {celsius:.2f}°C\")\n",
        "  else:\n",
        "    fahrenheit = (temp * 9/5) + 32\n",
        "    print(f\"{temp}°C is equal to {fahrenheit:.2f}°F\")\n",
        "\n",
        "convert_temperature()"
      ],
      "metadata": {
        "colab": {
          "base_uri": "https://localhost:8080/"
        },
        "id": "wLrnjY6oPVk3",
        "outputId": "a310156b-2f08-45af-ea99-1189b2b450fa"
      },
      "execution_count": 99,
      "outputs": [
        {
          "output_type": "stream",
          "name": "stdout",
          "text": [
            "Convert to Celsius or Fahrenheit? celcius\n",
            "Invalid choice. Please enter 'Celsius' or 'Fahrenheit'.\n",
            "Convert to Celsius or Fahrenheit? Celsius\n",
            "Enter the temperature value: 99\n",
            "99.0°F is equal to 37.22°C\n"
          ]
        }
      ]
    }
  ]
}